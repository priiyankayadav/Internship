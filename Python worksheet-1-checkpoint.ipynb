{
 "cells": [
  {
   "cell_type": "markdown",
   "id": "9d3ed458",
   "metadata": {},
   "source": [
    "#                   PYTHON ASSIGNMENT"
   ]
  },
  {
   "cell_type": "markdown",
   "id": "94f6940f",
   "metadata": {},
   "source": [
    "11.  Write a python program to find the factorial of a number."
   ]
  },
  {
   "cell_type": "code",
   "execution_count": 2,
   "id": "9ae4b1a2",
   "metadata": {},
   "outputs": [
    {
     "name": "stdout",
     "output_type": "stream",
     "text": [
      "Input a number to compute the factiorial : 6\n",
      "720\n"
     ]
    }
   ],
   "source": [
    "def factorial(n):\n",
    "    if n == 0:\n",
    "        return 1\n",
    "    else:\n",
    "        return n * factorial(n-1)\n",
    "n=int(input(\"Input a number to compute the factiorial : \"))\n",
    "print(factorial(n))"
   ]
  },
  {
   "cell_type": "code",
   "execution_count": 3,
   "id": "36897f93",
   "metadata": {},
   "outputs": [
    {
     "name": "stdout",
     "output_type": "stream",
     "text": [
      "Input a number to compute the factiorial : 4\n",
      "24\n"
     ]
    }
   ],
   "source": [
    "def factorial(n):\n",
    "    if n == 0:\n",
    "        return 1\n",
    "    else:\n",
    "        return n * factorial(n-1)\n",
    "n=int(input(\"Input a number to compute the factiorial : \"))\n",
    "print(factorial(n))"
   ]
  },
  {
   "cell_type": "markdown",
   "id": "529d8055",
   "metadata": {},
   "source": [
    "12.  Write a python program to find whether a number is prime or composite."
   ]
  },
  {
   "cell_type": "code",
   "execution_count": 4,
   "id": "9a9ac594",
   "metadata": {},
   "outputs": [
    {
     "name": "stdout",
     "output_type": "stream",
     "text": [
      "Enter any number: 7\n",
      "7 is a prime number\n"
     ]
    }
   ],
   "source": [
    "# taking input from user\n",
    "number = int(input(\"Enter any number: \"))\n",
    "\n",
    "# prime number is always greater than 1\n",
    "if number > 1:\n",
    "    for i in range(2, number):\n",
    "        if (number % i) == 0:\n",
    "            print(number, \"is not a prime number\")\n",
    "            break\n",
    "    else:\n",
    "        print(number, \"is a prime number\")\n",
    "\n",
    "# if the entered number is less than or equal to 1\n",
    "# then it is not prime number\n",
    "else:\n",
    "    print(number, \"is not a prime number\")"
   ]
  },
  {
   "cell_type": "code",
   "execution_count": 5,
   "id": "a6541298",
   "metadata": {},
   "outputs": [
    {
     "name": "stdout",
     "output_type": "stream",
     "text": [
      "Enter any number: 12\n",
      "12 is not a prime number\n"
     ]
    }
   ],
   "source": [
    "# taking input from user\n",
    "number = int(input(\"Enter any number: \"))\n",
    "\n",
    "# prime number is always greater than 1\n",
    "if number > 1:\n",
    "    for i in range(2, number):\n",
    "        if (number % i) == 0:\n",
    "            print(number, \"is not a prime number\")\n",
    "            break\n",
    "    else:\n",
    "        print(number, \"is a prime number\")\n",
    "\n",
    "# if the entered number is less than or equal to 1\n",
    "# then it is not prime number\n",
    "else:\n",
    "    print(number, \"is not a prime number\")"
   ]
  },
  {
   "cell_type": "markdown",
   "id": "b9164e4b",
   "metadata": {},
   "source": [
    "13.  Write a python program to check whether a given string is palindrome or not."
   ]
  },
  {
   "cell_type": "code",
   "execution_count": 6,
   "id": "bc11203f",
   "metadata": {},
   "outputs": [
    {
     "name": "stdout",
     "output_type": "stream",
     "text": [
      "Enter the word and see if it is palindrome: -8\n",
      "This word is not palindrome\n"
     ]
    }
   ],
   "source": [
    "n = input(\"Enter the word and see if it is palindrome: \") #check palindrome\n",
    "if n == n[::-1]:\n",
    "    print(\"This word is palindrome\")\n",
    "else:\n",
    "    print(\"This word is not palindrome\")"
   ]
  },
  {
   "cell_type": "code",
   "execution_count": 7,
   "id": "28e7bda2",
   "metadata": {},
   "outputs": [
    {
     "name": "stdout",
     "output_type": "stream",
     "text": [
      "Enter the word and see if it is palindrome: 1\n",
      "This word is palindrome\n"
     ]
    }
   ],
   "source": [
    "n = input(\"Enter the word and see if it is palindrome: \") #check palindrome\n",
    "if n == n[::-1]:\n",
    "    print(\"This word is palindrome\")\n",
    "else:\n",
    "    print(\"This word is not palindrome\")"
   ]
  },
  {
   "cell_type": "markdown",
   "id": "b12513d8",
   "metadata": {},
   "source": [
    "14.  Write a Python program to get the third side of right-angled triangle from two sides."
   ]
  },
  {
   "cell_type": "code",
   "execution_count": 9,
   "id": "17bd316b",
   "metadata": {},
   "outputs": [
    {
     "name": "stdout",
     "output_type": "stream",
     "text": [
      "Hypotenuse = 5.0\n",
      "Adjacent = 4.0\n",
      "Opposite = 3.0\n",
      "You know the answer!\n"
     ]
    }
   ],
   "source": [
    "def pythagoras(opposite_side,adjacent_side,hypotenuse):\n",
    "        if opposite_side == str(\"x\"):\n",
    "            return (\"Opposite = \" + str(((hypotenuse**2) - (adjacent_side**2))**0.5))\n",
    "        elif adjacent_side == str(\"x\"):\n",
    "            return (\"Adjacent = \" + str(((hypotenuse**2) - (opposite_side**2))**0.5))\n",
    "        elif hypotenuse == str(\"x\"):\n",
    "            return (\"Hypotenuse = \" + str(((opposite_side**2) + (adjacent_side**2))**0.5))\n",
    "        else:\n",
    "            return \"You know the answer!\"\n",
    "    \n",
    "print(pythagoras(3,4,'x'))\n",
    "print(pythagoras(3,'x',5))\n",
    "print(pythagoras('x',4,5))\n",
    "print(pythagoras(3,4,5))"
   ]
  },
  {
   "cell_type": "markdown",
   "id": "1254c40c",
   "metadata": {},
   "source": [
    "15. Write a python program to print the frequency of each of the characters present in a given string."
   ]
  },
  {
   "cell_type": "code",
   "execution_count": 13,
   "id": "6ed83078",
   "metadata": {},
   "outputs": [
    {
     "name": "stdout",
     "output_type": "stream",
     "text": [
      "Characters and their corresponding frequencies\n",
      "p-2\n",
      "i-1\n",
      "c-2\n",
      "t-2\n",
      "u-1\n",
      "r-2\n",
      "e-3\n",
      "f-1\n"
     ]
    }
   ],
   "source": [
    "string = \"picture perfect\";  \n",
    "freq = [None] * len(string);  \n",
    "   \n",
    "for i in range(0, len(string)):  \n",
    "    freq[i] = 1;  \n",
    "    for j in range(i+1, len(string)):  \n",
    "        if(string[i] == string[j]):  \n",
    "            freq[i] = freq[i] + 1;  \n",
    "              \n",
    "            #Set string[j] to 0 to avoid printing visited character  \n",
    "            string = string[ : j] + '0' + string[j+1 : ];  \n",
    "              \n",
    "#Displays the each character and their corresponding frequency  \n",
    "print(\"Characters and their corresponding frequencies\");  \n",
    "for i in range(0, len(freq)):  \n",
    "    if(string[i] != ' ' and string[i] != '0'):  \n",
    "        print(string[i] + \"-\" + str(freq[i]));  "
   ]
  }
 ],
 "metadata": {
  "kernelspec": {
   "display_name": "Python 3",
   "language": "python",
   "name": "python3"
  },
  "language_info": {
   "codemirror_mode": {
    "name": "ipython",
    "version": 3
   },
   "file_extension": ".py",
   "mimetype": "text/x-python",
   "name": "python",
   "nbconvert_exporter": "python",
   "pygments_lexer": "ipython3",
   "version": "3.8.8"
  }
 },
 "nbformat": 4,
 "nbformat_minor": 5
}
